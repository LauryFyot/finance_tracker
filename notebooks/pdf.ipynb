{
 "cells": [
  {
   "cell_type": "code",
   "execution_count": 44,
   "metadata": {},
   "outputs": [],
   "source": [
    "# pip install pdfquery"
   ]
  },
  {
   "cell_type": "code",
   "execution_count": 45,
   "metadata": {},
   "outputs": [
    {
     "name": "stdout",
     "output_type": "stream",
     "text": [
      "['', '', '', '', '', '', '', '', '', 'COMPTE DE CHÈQUES ', '\\ue633 N° ****9641 ', 'Facilité de caisse : 100,00 € ', '', '', '4.977,91 € ', 'Prévisionnel : 4.977,91 € ', '', '', '', '', \"COMPTE D'ÉPARGNE \", '\\ue633 N° ****3775 ', '', '', '64.971,07 € ', '| Prévisionnel : 64.971,07 € ', 'LIVRET DÉV. DURABLE ET SOLIDAIRE ', '\\ue633 N° ****1024 ', '', '', '12.655,71 € ', '| Prévisionnel : 12.655,71 € ', 'LIVRET JEUNE ', '\\ue633 N° ****2649 ', '', '', '2.127,54 € ', '| Prévisionnel : 2.127,54 € ', '', '', 'Citadine, SUV compact ou familial, proﬁtez des oﬀres du moment pour changer de ', 'voiture. ', 'Trouvez le véhicule qui vous convient sur Mobility4You. ', '#BNPParibasMobility - Pensez à covoiturer. ', '', 'Bonjour Mlle FYOT TAMADON ', 'Dernière connexion le 15/03/2025 à 10h44 ', 'Avoirs 84.732,23 € ', '', '', '', '', '', '', '', '', '', 'Vous n’avez pas de crédit. Besoin de ﬁnancer un ', 'projet ? ', '', 'Découvrir nos ', 'crédits ', '']\n"
     ]
    }
   ],
   "source": [
    "from pdfquery import PDFQuery\n",
    "import re\n",
    "\n",
    "pdf = PDFQuery('../data/Mes comptes _ BNP Paribas.pdf')\n",
    "pdf.load()\n",
    "\n",
    "# Use CSS-like selectors to locate the elements\n",
    "text_elements = pdf.pq('LTTextLineHorizontal')\n",
    "\n",
    "# Extract the text from the elements\n",
    "text = [t.text for t in text_elements]\n",
    "\n",
    "print(text)"
   ]
  },
  {
   "cell_type": "code",
   "execution_count": 46,
   "metadata": {},
   "outputs": [
    {
     "name": "stdout",
     "output_type": "stream",
     "text": [
      "['COMPTE DE CHÈQUES', '4.977,91 €', \"COMPTE D'ÉPARGNE\", '64.971,07 €', 'LIVRET DÉV. DURABLE ET SOLIDAIRE', '12.655,71 €', 'LIVRET JEUNE', '2.127,54 €', 'Avoirs 84.732,23 €']\n"
     ]
    }
   ],
   "source": [
    "clean_text = text\n",
    "clean_text = [t for t in clean_text if t != '']\n",
    "clean_text = [t for t in clean_text if \"\\ue633\" not in t]\n",
    "clean_text = [t for t in clean_text if \"Facilité de caisse\" not in t]\n",
    "clean_text = [t for t in clean_text if \"Prévisionnel\" not in t]\n",
    "clean_text = [item.strip() for item in clean_text if re.search(r\"[\\d,.]+ €\", item) or \"COMPTE\" in item or \"LIVRET\" in item]\n",
    "\n",
    "print(clean_text)"
   ]
  },
  {
   "cell_type": "code",
   "execution_count": 47,
   "metadata": {},
   "outputs": [],
   "source": [
    "def get_next_value(target_list, key):\n",
    "    \"\"\"\n",
    "    Récupère la valeur immédiatement après un mot-clé ou dans la même chaîne.\n",
    "    \"\"\"\n",
    "    for i in range(len(target_list) - 1):  \n",
    "        if key in target_list[i]:\n",
    "            # Si le montant est sur la ligne suivante, on le retourne directement\n",
    "            return float(target_list[i + 1].replace('.', '').replace(',', '.').replace(' €', ''))\n",
    "    \n",
    "    # 🔍 Vérification si la valeur est dans la même ligne (ex: \"Avoirs 84.732,23 €\")\n",
    "    for item in target_list:\n",
    "        if key in item:\n",
    "            match = re.search(r\"[\\d,.]+ €\", item)  # Extraction du montant dans la même chaîne\n",
    "            return float(match.group(0).replace('.', '').replace(',', '.').replace(' €', '')) if match else None\n",
    "\n",
    "    return None  # Si non trouvé\n",
    "\n",
    "# Tester la correction\n",
    "compte_cheque = get_next_value(clean_text, \"COMPTE DE CHÈQUES\")\n",
    "compte_epargne = get_next_value(clean_text, \"COMPTE D'ÉPARGNE\")\n",
    "livret_dev_durable = get_next_value(clean_text, \"LIVRET DÉV. DURABLE ET SOLIDAIRE\")\n",
    "livret_jeune = get_next_value(clean_text, \"LIVRET JEUNE\")\n",
    "avoirs = get_next_value(clean_text, \"Avoirs\")\n",
    "\n",
    "# Affichage des résultats mis à jour\n",
    "comptes = {\n",
    "    \"compte_cheque\": compte_cheque,\n",
    "    \"compte_epargne\": compte_epargne,\n",
    "    \"livret_dev_durable\": livret_dev_durable,\n",
    "    \"livret_jeune\": livret_jeune,\n",
    "    \"avoirs\": avoirs\n",
    "}\n"
   ]
  },
  {
   "cell_type": "code",
   "execution_count": 48,
   "metadata": {},
   "outputs": [],
   "source": [
    "import json \n",
    "with open(\"../data/comptes.json\", \"w\", encoding=\"utf-8\") as fichier:\n",
    "    json.dump(comptes, fichier, ensure_ascii=False, indent=4)"
   ]
  }
 ],
 "metadata": {
  "kernelspec": {
   "display_name": "Python 3",
   "language": "python",
   "name": "python3"
  },
  "language_info": {
   "codemirror_mode": {
    "name": "ipython",
    "version": 3
   },
   "file_extension": ".py",
   "mimetype": "text/x-python",
   "name": "python",
   "nbconvert_exporter": "python",
   "pygments_lexer": "ipython3",
   "version": "3.10.0"
  }
 },
 "nbformat": 4,
 "nbformat_minor": 2
}
